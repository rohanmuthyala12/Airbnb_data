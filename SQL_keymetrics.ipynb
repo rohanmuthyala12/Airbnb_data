{
 "cells": [
  {
   "cell_type": "code",
   "execution_count": 5,
   "id": "c8bf3373-ccc1-454a-bce0-d7a6caabbf29",
   "metadata": {},
   "outputs": [],
   "source": [
    "import pandas as pd\n",
    "\n",
    "df = pd.read_csv('/Users/rohanmuthyala/Desktop/Airbnb-data/cleaned_airbnb_data.csv')"
   ]
  },
  {
   "cell_type": "code",
   "execution_count": 7,
   "id": "a02ed301-6f46-4470-b10c-57c182935343",
   "metadata": {},
   "outputs": [
    {
     "data": {
      "text/plain": [
       "52852"
      ]
     },
     "execution_count": 7,
     "metadata": {},
     "output_type": "execute_result"
    }
   ],
   "source": [
    "import sqlite3\n",
    "conn = sqlite3.connect(':memory:')\n",
    "df.to_sql('airbnb', conn, index=False, if_exists='replace')"
   ]
  },
  {
   "cell_type": "code",
   "execution_count": 9,
   "id": "a5bbefef-3fe8-47d4-8ead-6ae04f695060",
   "metadata": {},
   "outputs": [],
   "source": [
    "#Total and Average Revenue per Neighborhoods"
   ]
  },
  {
   "cell_type": "code",
   "execution_count": 11,
   "id": "20edb093-38f0-452c-b18a-18865dc0946f",
   "metadata": {},
   "outputs": [
    {
     "name": "stdout",
     "output_type": "stream",
     "text": [
      "        id                                       name      host_id  \\\n",
      "0  1004098  Large Cozy 1 BR Apartment In Midtown East  45498551794   \n",
      "1  1007411           Beautiful 1br on Upper West Side  18824631834   \n",
      "2  1024533        Beautiful Sunny Park Slope Brooklyn  50357575975   \n",
      "3  1025637                          West Side Retreat  55430108992   \n",
      "4  1074240         Stylish  Sleek Apartment Near SoHo  24559680874   \n",
      "\n",
      "  host_identity_verified host_name neighbourhood_group    neighbourhood  \\\n",
      "0               verified  Michelle           Manhattan      Murray Hill   \n",
      "1               verified      Alan           Manhattan  Upper West Side   \n",
      "2               verified     Alina            Brooklyn      South Slope   \n",
      "3            unconfirmed    Alford           Manhattan  Upper West Side   \n",
      "4               verified    Brooke           Manhattan     East Village   \n",
      "\n",
      "   latitude  longitude        country  ... construction_year  price  \\\n",
      "0  40.74767  -73.97500  United States  ...              2013  577.0   \n",
      "1  40.80316  -73.96545  United States  ...              2008  606.0   \n",
      "2  40.66278  -73.97966  United States  ...              2020  370.0   \n",
      "3  40.79009  -73.97927  United States  ...              2017  856.0   \n",
      "4  40.72392  -73.99143  United States  ...              2006  329.0   \n",
      "\n",
      "  service_fee minimum_nights  number_of_reviews  last_review  \\\n",
      "0       115.0            3.0               74.0   2019-06-22   \n",
      "1       121.0            5.0               53.0   2019-06-22   \n",
      "2        74.0            3.0               15.0   2019-05-27   \n",
      "3       171.0            4.0               81.0   2019-06-16   \n",
      "4        66.0            5.0               73.0   2019-06-25   \n",
      "\n",
      "   reviews_per_month  review_rate_number  calculated_host_listings_count  \\\n",
      "0               0.59                 3.0                             1.0   \n",
      "1               0.43                 4.0                             1.0   \n",
      "2               0.39                 2.0                             1.0   \n",
      "3               0.69                 3.0                             1.0   \n",
      "4               0.66                 4.0                             1.0   \n",
      "\n",
      "  availability_365  \n",
      "0            374.0  \n",
      "1            163.0  \n",
      "2             33.0  \n",
      "3             86.0  \n",
      "4             13.0  \n",
      "\n",
      "[5 rows x 24 columns]\n"
     ]
    }
   ],
   "source": [
    "query = '''\n",
    "SELECT * FROM airbnb;\n",
    "'''\n",
    "result_df = pd.read_sql_query(query, conn)\n",
    "\n",
    "print(result_df.head())"
   ]
  },
  {
   "cell_type": "code",
   "execution_count": 17,
   "id": "d050b39d-5a1d-47f9-a73e-02153ca996be",
   "metadata": {},
   "outputs": [
    {
     "name": "stdout",
     "output_type": "stream",
     "text": [
      "  neighbourhood_group  total_listings  total_revenue  avg_price\n",
      "0            Brooklyn           23291     14608594.0     627.22\n",
      "1           Manhattan           21180     13254705.0     625.81\n",
      "2              Queens            6485      4060181.0     626.09\n",
      "3               Bronx            1410       881377.0     625.09\n",
      "4       Staten Island             486       296213.0     609.49\n"
     ]
    }
   ],
   "source": [
    "query = '''\n",
    "SELECT neighbourhood_group, \n",
    "       COUNT(*) AS total_listings, \n",
    "       SUM(price) AS total_revenue,\n",
    "       ROUND(AVG(price), 2) AS avg_price\n",
    "FROM airbnb\n",
    "GROUP BY neighbourhood_group\n",
    "ORDER BY total_revenue DESC;\n",
    "'''\n",
    "result_df = pd.read_sql_query(query, conn)\n",
    "\n",
    "print(result_df)\n"
   ]
  },
  {
   "cell_type": "code",
   "execution_count": 19,
   "id": "b28fce05-5780-4be5-b456-8199e091c6d3",
   "metadata": {},
   "outputs": [],
   "source": [
    "#Revenue Per Room Type in Each Neighborhood"
   ]
  },
  {
   "cell_type": "code",
   "execution_count": 26,
   "id": "9c82c392-aac2-4c5b-925a-4c3c309c263f",
   "metadata": {},
   "outputs": [
    {
     "name": "stdout",
     "output_type": "stream",
     "text": [
      "   neighbourhood_group        room_type  total_listings  total_revenue  \\\n",
      "0            Manhattan  Entire home/apt           12462      7794345.0   \n",
      "1             Brooklyn  Entire home/apt           12273      7648513.0   \n",
      "2             Brooklyn     Private room           10763      6794784.0   \n",
      "3            Manhattan     Private room            8339      5208333.0   \n",
      "4               Queens     Private room            3383      2150106.0   \n",
      "5               Queens  Entire home/apt            2972      1832803.0   \n",
      "6                Bronx     Private room             801       503074.0   \n",
      "7                Bronx  Entire home/apt             562       351010.0   \n",
      "8            Manhattan      Shared room             365       243597.0   \n",
      "9        Staten Island  Entire home/apt             273       172210.0   \n",
      "10            Brooklyn      Shared room             253       164222.0   \n",
      "11       Staten Island     Private room             212       123207.0   \n",
      "12              Queens      Shared room             129        76905.0   \n",
      "13               Bronx      Shared room              47        27293.0   \n",
      "14           Manhattan       Hotel room              14         8430.0   \n",
      "15            Brooklyn       Hotel room               2         1075.0   \n",
      "16       Staten Island      Shared room               1          796.0   \n",
      "17              Queens       Hotel room               1          367.0   \n",
      "\n",
      "    avg_price  \n",
      "0      625.45  \n",
      "1      623.20  \n",
      "2      631.31  \n",
      "3      624.58  \n",
      "4      635.56  \n",
      "5      616.69  \n",
      "6      628.06  \n",
      "7      624.57  \n",
      "8      667.39  \n",
      "9      630.81  \n",
      "10     649.10  \n",
      "11     581.17  \n",
      "12     596.16  \n",
      "13     580.70  \n",
      "14     602.14  \n",
      "15     537.50  \n",
      "16     796.00  \n",
      "17     367.00  \n"
     ]
    }
   ],
   "source": [
    "query = '''\n",
    "SELECT neighbourhood_group, room_type, \n",
    "       COUNT(*) AS total_listings, \n",
    "       SUM(price) AS total_revenue,\n",
    "       ROUND(AVG(price), 2) AS avg_price\n",
    "FROM airbnb\n",
    "GROUP BY neighbourhood_group, room_type\n",
    "ORDER BY total_revenue DESC;\n",
    "'''\n",
    "\n",
    "result_df = pd.read_sql_query(query, conn)\n",
    "print(result_df)\n"
   ]
  },
  {
   "cell_type": "code",
   "execution_count": 19,
   "id": "c0bdf0ba-e4f7-403e-9a6f-0d55edba268a",
   "metadata": {},
   "outputs": [],
   "source": [
    "#Occupancy Rate by Neighborhood Group"
   ]
  },
  {
   "cell_type": "code",
   "execution_count": 28,
   "id": "cb78922c-a8b7-4532-851c-e2e4118c084b",
   "metadata": {},
   "outputs": [
    {
     "name": "stdout",
     "output_type": "stream",
     "text": [
      "  neighbourhood_group  occupancy_rate\n",
      "0       Staten Island       96.502058\n",
      "1            Brooklyn       96.088618\n",
      "2           Manhattan       95.835694\n",
      "3              Queens       95.512722\n",
      "4               Bronx       94.326241\n"
     ]
    }
   ],
   "source": [
    "query = '''\n",
    "SELECT neighbourhood_group,\n",
    "       SUM(CASE WHEN availability_365 < 365 THEN 1 ELSE 0 END) * 100.0 / COUNT(*) AS occupancy_rate\n",
    "FROM airbnb\n",
    "GROUP BY neighbourhood_group\n",
    "ORDER BY occupancy_rate DESC;\n",
    "'''\n",
    "\n",
    "result_df = pd.read_sql_query(query, conn)\n",
    "print(result_df)\n"
   ]
  },
  {
   "cell_type": "code",
   "execution_count": 30,
   "id": "c988a6f9-229c-4b22-a70e-a72d577ec7e6",
   "metadata": {},
   "outputs": [],
   "source": [
    "#Average Availability of Listings by Room Type"
   ]
  },
  {
   "cell_type": "code",
   "execution_count": 32,
   "id": "cbc2b6ce-6425-4694-908a-c489bb420ce0",
   "metadata": {},
   "outputs": [
    {
     "name": "stdout",
     "output_type": "stream",
     "text": [
      "         room_type  avg_availability\n",
      "0       Hotel room         80.411765\n",
      "1     Private room        115.943782\n",
      "2  Entire home/apt        120.114673\n",
      "3      Shared room        142.418868\n"
     ]
    }
   ],
   "source": [
    "query = '''\n",
    "SELECT room_type, AVG(availability_365) AS avg_availability\n",
    "FROM airbnb\n",
    "GROUP BY room_type\n",
    "ORDER BY avg_availability;\n",
    "'''\n",
    "\n",
    "result_df = pd.read_sql_query(query, conn)\n",
    "print(result_df)"
   ]
  },
  {
   "cell_type": "code",
   "execution_count": 34,
   "id": "eac07bcd-b08a-49d2-8d4f-866c09bf3e7f",
   "metadata": {},
   "outputs": [],
   "source": [
    "#Average Review Scores by Neighborhood Group"
   ]
  },
  {
   "cell_type": "code",
   "execution_count": 41,
   "id": "3dc6e90a-22b2-4b89-b195-cc9306608f2a",
   "metadata": {},
   "outputs": [
    {
     "name": "stdout",
     "output_type": "stream",
     "text": [
      "  neighbourhood_group  avg_review_score\n",
      "0               Bronx              3.37\n",
      "1       Staten Island              3.33\n",
      "2              Queens              3.30\n",
      "3           Manhattan              3.24\n",
      "4            Brooklyn              3.24\n"
     ]
    }
   ],
   "source": [
    "query = '''\n",
    "SELECT neighbourhood_group,\n",
    "       ROUND(AVG(review_rate_number), 2) AS avg_review_score\n",
    "FROM airbnb\n",
    "GROUP BY neighbourhood_group\n",
    "ORDER BY avg_review_score DESC;\n",
    "'''\n",
    "\n",
    "result_df = pd.read_sql_query(query, conn)\n",
    "print(result_df)\n"
   ]
  },
  {
   "cell_type": "code",
   "execution_count": 43,
   "id": "bdc6621d-d5ed-4b20-83b9-69a30945dff4",
   "metadata": {},
   "outputs": [],
   "source": [
    "#Listings Distribution by Room Type"
   ]
  },
  {
   "cell_type": "code",
   "execution_count": 45,
   "id": "e676068e-b7d0-450e-a2ec-15cdc380e7aa",
   "metadata": {},
   "outputs": [
    {
     "name": "stdout",
     "output_type": "stream",
     "text": [
      "         room_type  total_listings\n",
      "0  Entire home/apt           28542\n",
      "1     Private room           23498\n",
      "2      Shared room             795\n",
      "3       Hotel room              17\n"
     ]
    }
   ],
   "source": [
    "query = '''\n",
    "SELECT room_type, COUNT(*) AS total_listings\n",
    "FROM airbnb\n",
    "GROUP BY room_type\n",
    "ORDER BY total_listings DESC;\n",
    "'''\n",
    "\n",
    "result_df = pd.read_sql_query(query, conn)\n",
    "print(result_df)"
   ]
  },
  {
   "cell_type": "code",
   "execution_count": 47,
   "id": "bc4e3a06-e104-412b-b8d4-f5cc4ef74cd3",
   "metadata": {},
   "outputs": [],
   "source": [
    "#Hosts with the Highest Average Review Scores"
   ]
  },
  {
   "cell_type": "code",
   "execution_count": 49,
   "id": "d086076b-96b0-41c1-a90c-48ac3a3865a7",
   "metadata": {},
   "outputs": [
    {
     "name": "stdout",
     "output_type": "stream",
     "text": [
      "     host_id                       host_name  avg_review_score\n",
      "0  142125177                           Riley               5.0\n",
      "1  148467235                       Stephanie               5.0\n",
      "2  151277485                         Tatyana               5.0\n",
      "3  158388023                         Maurice               5.0\n",
      "4  162511322                            Hans               5.0\n",
      "5  169042877                          Johnny               5.0\n",
      "6  170610620                John And Colleen               5.0\n",
      "7  209566505  Walker Hotel Greenwich Village               5.0\n",
      "8  215491272                         Charlie               5.0\n",
      "9  220979350                             Tov               5.0\n"
     ]
    }
   ],
   "source": [
    "query = '''\n",
    "SELECT host_id, host_name, AVG(review_rate_number) AS avg_review_score\n",
    "FROM airbnb\n",
    "GROUP BY host_id, host_name\n",
    "ORDER BY avg_review_score DESC\n",
    "LIMIT 10;\n",
    "'''\n",
    "\n",
    "result_df = pd.read_sql_query(query, conn)\n",
    "print(result_df)"
   ]
  },
  {
   "cell_type": "code",
   "execution_count": 51,
   "id": "64fe41a3-5be7-404f-8f64-8c63ff244684",
   "metadata": {},
   "outputs": [],
   "source": [
    "#Correlation Between Price and Review Score"
   ]
  },
  {
   "cell_type": "code",
   "execution_count": 55,
   "id": "470d9c75-0832-4223-aafa-c8fd94183539",
   "metadata": {},
   "outputs": [
    {
     "name": "stdout",
     "output_type": "stream",
     "text": [
      "         room_type   avg_price  avg_review_score\n",
      "0      Shared room  645.047799              3.20\n",
      "1     Private room  628.968593              3.26\n",
      "2  Entire home/apt  623.603146              3.25\n",
      "3       Hotel room  580.705882              3.65\n"
     ]
    }
   ],
   "source": [
    "query = '''\n",
    "SELECT room_type, \n",
    "       AVG(price) AS avg_price, \n",
    "       ROUND(AVG(review_rate_number),2) AS avg_review_score\n",
    "FROM airbnb\n",
    "GROUP BY room_type\n",
    "ORDER BY avg_price DESC;\n",
    "'''\n",
    "\n",
    "result_df = pd.read_sql_query(query, conn)\n",
    "print(result_df)\n"
   ]
  },
  {
   "cell_type": "code",
   "execution_count": 57,
   "id": "70f07502-9ab8-4f5a-ab48-95587de9725b",
   "metadata": {},
   "outputs": [],
   "source": [
    "#Generate Summary Reports for Key Metrics"
   ]
  },
  {
   "cell_type": "code",
   "execution_count": 59,
   "id": "261b2221-6f6a-4131-90a5-08916e5bc8f2",
   "metadata": {},
   "outputs": [
    {
     "name": "stdout",
     "output_type": "stream",
     "text": [
      "  neighbourhood_group  total_listings   avg_price  total_revenue  \\\n",
      "0            Brooklyn           23291  627.220557     14608594.0   \n",
      "1           Manhattan           21180  625.812323     13254705.0   \n",
      "2              Queens            6485  626.088049      4060181.0   \n",
      "3               Bronx            1410  625.090071       881377.0   \n",
      "4       Staten Island             486  609.491770       296213.0   \n",
      "\n",
      "   avg_review_score  \n",
      "0          3.243656  \n",
      "1          3.241313  \n",
      "2          3.303470  \n",
      "3          3.372340  \n",
      "4          3.325103  \n"
     ]
    }
   ],
   "source": [
    "query = '''\n",
    "SELECT neighbourhood_group, \n",
    "       COUNT(*) AS total_listings, \n",
    "       AVG(price) AS avg_price, \n",
    "       SUM(price) AS total_revenue,\n",
    "       AVG(review_rate_number) AS avg_review_score\n",
    "FROM airbnb\n",
    "GROUP BY neighbourhood_group\n",
    "ORDER BY total_revenue DESC;\n",
    "\n",
    "'''\n",
    "\n",
    "result_df = pd.read_sql_query(query, conn)\n",
    "print(result_df)\n"
   ]
  },
  {
   "cell_type": "code",
   "execution_count": null,
   "id": "607839cd-6f8d-479a-8efb-2ffd4a0e2133",
   "metadata": {},
   "outputs": [],
   "source": []
  }
 ],
 "metadata": {
  "kernelspec": {
   "display_name": "Python 3 (ipykernel)",
   "language": "python",
   "name": "python3"
  },
  "language_info": {
   "codemirror_mode": {
    "name": "ipython",
    "version": 3
   },
   "file_extension": ".py",
   "mimetype": "text/x-python",
   "name": "python",
   "nbconvert_exporter": "python",
   "pygments_lexer": "ipython3",
   "version": "3.12.2"
  }
 },
 "nbformat": 4,
 "nbformat_minor": 5
}
